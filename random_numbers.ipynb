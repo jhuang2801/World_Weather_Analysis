{
 "cells": [
  {
   "cell_type": "code",
   "execution_count": 1,
   "id": "e0042c45",
   "metadata": {},
   "outputs": [],
   "source": [
    "# Import the random module.\n",
    "import random"
   ]
  },
  {
   "cell_type": "code",
   "execution_count": 4,
   "id": "a2f3de07",
   "metadata": {},
   "outputs": [
    {
     "data": {
      "text/plain": [
       "0.23630774702883373"
      ]
     },
     "execution_count": 4,
     "metadata": {},
     "output_type": "execute_result"
    }
   ],
   "source": [
    "random.random()"
   ]
  },
  {
   "cell_type": "code",
   "execution_count": 16,
   "id": "f148bf16",
   "metadata": {},
   "outputs": [
    {
     "data": {
      "text/plain": [
       "-65.09111918283763"
      ]
     },
     "execution_count": 16,
     "metadata": {},
     "output_type": "execute_result"
    }
   ],
   "source": [
    "random_number = random.randint(-90,89) + random.random()\n",
    "random_number"
   ]
  },
  {
   "cell_type": "code",
   "execution_count": 21,
   "id": "ac0eb736",
   "metadata": {},
   "outputs": [
    {
     "data": {
      "text/plain": [
       "[-6.560925612752568,\n",
       " -18.67624944261811,\n",
       " -59.91398368558357,\n",
       " 41.871845328687215,\n",
       " 36.194340067095396,\n",
       " -61.67547530276203,\n",
       " 8.507507174678008,\n",
       " 51.21264634947554,\n",
       " -83.75106457199917,\n",
       " 70.53494079083085]"
      ]
     },
     "execution_count": 21,
     "metadata": {},
     "output_type": "execute_result"
    }
   ],
   "source": [
    "x = 1\n",
    "latitudes = []\n",
    "while x < 11:\n",
    "    random_lat = random.randint(-90,89) + random.random()\n",
    "    latitudes.append(random_lat)\n",
    "    x+=1\n",
    "latitudes"
   ]
  },
  {
   "cell_type": "code",
   "execution_count": 22,
   "id": "43302dff",
   "metadata": {},
   "outputs": [
    {
     "data": {
      "text/plain": [
       "-35"
      ]
     },
     "execution_count": 22,
     "metadata": {},
     "output_type": "execute_result"
    }
   ],
   "source": [
    "random.randrange(-90,90,step=1)"
   ]
  },
  {
   "cell_type": "code",
   "execution_count": 23,
   "id": "5ef413ef",
   "metadata": {},
   "outputs": [
    {
     "data": {
      "text/plain": [
       "-75"
      ]
     },
     "execution_count": 23,
     "metadata": {},
     "output_type": "execute_result"
    }
   ],
   "source": [
    "random.randrange(-90, 90, step=3)"
   ]
  },
  {
   "cell_type": "code",
   "execution_count": 24,
   "id": "92b9bc1f",
   "metadata": {},
   "outputs": [
    {
     "data": {
      "text/plain": [
       "15.373694539820193"
      ]
     },
     "execution_count": 24,
     "metadata": {},
     "output_type": "execute_result"
    }
   ],
   "source": [
    "random.uniform(-90, 90)"
   ]
  },
  {
   "cell_type": "code",
   "execution_count": 25,
   "id": "a55018b5",
   "metadata": {},
   "outputs": [],
   "source": [
    "# Import the NumPy module.\n",
    "import numpy as np"
   ]
  },
  {
   "cell_type": "code",
   "execution_count": 27,
   "id": "151aec3d",
   "metadata": {},
   "outputs": [
    {
     "data": {
      "text/plain": [
       "44.971203956498414"
      ]
     },
     "execution_count": 27,
     "metadata": {},
     "output_type": "execute_result"
    }
   ],
   "source": [
    "np.random.uniform(-90.000, 90.000)"
   ]
  },
  {
   "cell_type": "code",
   "execution_count": 28,
   "id": "650462e7",
   "metadata": {},
   "outputs": [
    {
     "data": {
      "text/plain": [
       "-52.646755416549546"
      ]
     },
     "execution_count": 28,
     "metadata": {},
     "output_type": "execute_result"
    }
   ],
   "source": [
    "np.random.uniform(low=-90, high=90)"
   ]
  },
  {
   "cell_type": "code",
   "execution_count": 29,
   "id": "2c7bd027",
   "metadata": {},
   "outputs": [
    {
     "data": {
      "text/plain": [
       "array([ 70.06588492,  68.54494543,  55.82528049, -47.36682304,\n",
       "       -14.6510479 , -46.91407882, -65.32477133, -37.84415445,\n",
       "       -25.72486037, -21.79137239,  -8.52738911,  22.99946309,\n",
       "        65.33937469, -32.60906375,  80.94320289, -28.7441012 ,\n",
       "        45.95391696, -45.98383042, -34.11960927, -57.0992934 ,\n",
       "        41.32386763, -79.74313661,  27.96211387,  77.99050618,\n",
       "        17.64123634, -86.46724817, -15.33048284, -54.93675473,\n",
       "        42.41410578, -40.19818169, -62.97771474,  19.47018179,\n",
       "       -54.1542596 ,  66.76056609,  81.21644541,  59.49617671,\n",
       "       -33.1467311 ,  81.3162291 ,  53.42151675, -57.44544251,\n",
       "       -71.73581393,  61.98235418,  81.85403992,  29.08345603,\n",
       "        38.10604592,  79.90061935,  88.22888018,   0.94565747,\n",
       "        18.35924426, -62.50855056])"
      ]
     },
     "execution_count": 29,
     "metadata": {},
     "output_type": "execute_result"
    }
   ],
   "source": [
    "np.random.uniform(-90.000, 90.000, size=50)"
   ]
  },
  {
   "cell_type": "code",
   "execution_count": 30,
   "id": "d47e37b8",
   "metadata": {},
   "outputs": [],
   "source": [
    "# Import timeit.\n",
    "import timeit"
   ]
  },
  {
   "cell_type": "code",
   "execution_count": 32,
   "id": "f8e621a9",
   "metadata": {},
   "outputs": [
    {
     "name": "stdout",
     "output_type": "stream",
     "text": [
      "14.3 µs ± 161 ns per loop (mean ± std. dev. of 7 runs, 100000 loops each)\n"
     ]
    }
   ],
   "source": [
    "%timeit np.random.uniform(-90.000, 90.000, size=1500)\n",
    "#faster than using the while loop"
   ]
  },
  {
   "cell_type": "code",
   "execution_count": 33,
   "id": "94bb02ab",
   "metadata": {},
   "outputs": [
    {
     "name": "stdout",
     "output_type": "stream",
     "text": [
      "2.27 ms ± 30.8 µs per loop (mean ± std. dev. of 7 runs, 100 loops each)\n"
     ]
    }
   ],
   "source": [
    "def latitudes(size):\n",
    "    latitudes = []\n",
    "    x = 0\n",
    "    while x < (size):\n",
    "        random_lat = random.randint(-90, 90) + random.random()\n",
    "        latitudes.append(random_lat)\n",
    "        x += 1\n",
    "    return latitudes\n",
    "# Call the function with 1500.\n",
    "%timeit latitudes(1500)"
   ]
  },
  {
   "cell_type": "code",
   "execution_count": null,
   "id": "681113ab",
   "metadata": {},
   "outputs": [],
   "source": []
  }
 ],
 "metadata": {
  "kernelspec": {
   "display_name": "PythonData",
   "language": "python",
   "name": "pythondata"
  },
  "language_info": {
   "codemirror_mode": {
    "name": "ipython",
    "version": 3
   },
   "file_extension": ".py",
   "mimetype": "text/x-python",
   "name": "python",
   "nbconvert_exporter": "python",
   "pygments_lexer": "ipython3",
   "version": "3.7.13"
  }
 },
 "nbformat": 4,
 "nbformat_minor": 5
}
